{
 "cells": [
  {
   "cell_type": "markdown",
   "metadata": {},
   "source": [
    "# 008 Data Preparation for OD Analysis\n",
    "* Based on the DBSCAN results (density-based spatial clustering of applications with noise)\n",
    "* This script includes data preparation for an origin-destination analysis to identify mobility patterns of evacuees during and after Hurricane Harvey"
   ]
  },
  {
   "cell_type": "code",
   "execution_count": 1,
   "metadata": {},
   "outputs": [],
   "source": [
    "import pandas as pd\n",
    "import numpy as np\n",
    "from numpy import arange\n",
    "import datetime\n",
    "import matplotlib.pyplot as plt\n",
    "%matplotlib inline\n",
    "\n",
    "import warnings\n",
    "warnings.filterwarnings(\"ignore\")"
   ]
  },
  {
   "cell_type": "code",
   "execution_count": 2,
   "metadata": {},
   "outputs": [
    {
     "name": "stdout",
     "output_type": "stream",
     "text": [
      "pandas 1.1.2\n",
      "numpy 1.19.2\n",
      "matplotlib 3.2.0\n"
     ]
    }
   ],
   "source": [
    "# Check package versions\n",
    "import types \n",
    "def imports():\n",
    "    for name, val in globals().items():\n",
    "        if isinstance(val, types.ModuleType):\n",
    "            yield val.__name__\n",
    "\n",
    "import pkg_resources\n",
    "root_packages = [i.split('.', 1)[0] for i in list(imports())] \n",
    "for m in pkg_resources.working_set:\n",
    "    if m.project_name.lower() in root_packages:\n",
    "        print (m.project_name, m.version)"
   ]
  },
  {
   "cell_type": "markdown",
   "metadata": {},
   "source": [
    "# 1. Load DBSCAN result data"
   ]
  },
  {
   "cell_type": "code",
   "execution_count": 3,
   "metadata": {},
   "outputs": [],
   "source": [
    "df = pd.read_csv('../../outputs/clusters_top25_users_Harvey_activity.csv')"
   ]
  },
  {
   "cell_type": "code",
   "execution_count": 4,
   "metadata": {},
   "outputs": [
    {
     "name": "stdout",
     "output_type": "stream",
     "text": [
      "173683\n"
     ]
    },
    {
     "data": {
      "text/html": [
       "<div>\n",
       "<style scoped>\n",
       "    .dataframe tbody tr th:only-of-type {\n",
       "        vertical-align: middle;\n",
       "    }\n",
       "\n",
       "    .dataframe tbody tr th {\n",
       "        vertical-align: top;\n",
       "    }\n",
       "\n",
       "    .dataframe thead th {\n",
       "        text-align: right;\n",
       "    }\n",
       "</style>\n",
       "<table border=\"1\" class=\"dataframe\">\n",
       "  <thead>\n",
       "    <tr style=\"text-align: right;\">\n",
       "      <th></th>\n",
       "      <th>id</th>\n",
       "      <th>home</th>\n",
       "      <th>home.1</th>\n",
       "      <th>2017-08-01</th>\n",
       "      <th>2017-08-01.1</th>\n",
       "      <th>2017-08-02</th>\n",
       "      <th>2017-08-02.1</th>\n",
       "      <th>2017-08-03</th>\n",
       "      <th>2017-08-03.1</th>\n",
       "      <th>2017-08-04</th>\n",
       "      <th>...</th>\n",
       "      <th>2017-10-23</th>\n",
       "      <th>2017-10-23.1</th>\n",
       "      <th>2017-10-24</th>\n",
       "      <th>2017-10-24.1</th>\n",
       "      <th>2017-10-25</th>\n",
       "      <th>2017-10-25.1</th>\n",
       "      <th>2017-10-26</th>\n",
       "      <th>2017-10-26.1</th>\n",
       "      <th>2017-10-27</th>\n",
       "      <th>2017-10-27.1</th>\n",
       "    </tr>\n",
       "  </thead>\n",
       "  <tbody>\n",
       "    <tr>\n",
       "      <th>1</th>\n",
       "      <td>5F265B5D-F46D-4F1B-9549-F0E48A60E224</td>\n",
       "      <td>32.446467</td>\n",
       "      <td>-91.494068</td>\n",
       "      <td>NaN</td>\n",
       "      <td>NaN</td>\n",
       "      <td>NaN</td>\n",
       "      <td>NaN</td>\n",
       "      <td>NaN</td>\n",
       "      <td>NaN</td>\n",
       "      <td>NaN</td>\n",
       "      <td>...</td>\n",
       "      <td>NaN</td>\n",
       "      <td>NaN</td>\n",
       "      <td>NaN</td>\n",
       "      <td>NaN</td>\n",
       "      <td>NaN</td>\n",
       "      <td>NaN</td>\n",
       "      <td>NaN</td>\n",
       "      <td>NaN</td>\n",
       "      <td>NaN</td>\n",
       "      <td>NaN</td>\n",
       "    </tr>\n",
       "    <tr>\n",
       "      <th>2</th>\n",
       "      <td>0B4899A7-3BE8-4AA7-BE67-3FD2054F8B02</td>\n",
       "      <td>29.968607</td>\n",
       "      <td>-95.209699</td>\n",
       "      <td>29.968607</td>\n",
       "      <td>-95.209699</td>\n",
       "      <td>29.968607</td>\n",
       "      <td>-95.209699</td>\n",
       "      <td>29.968607</td>\n",
       "      <td>-95.209699</td>\n",
       "      <td>29.968607</td>\n",
       "      <td>...</td>\n",
       "      <td>29.968607</td>\n",
       "      <td>-95.209699</td>\n",
       "      <td>29.968607</td>\n",
       "      <td>-95.209699</td>\n",
       "      <td>29.968607</td>\n",
       "      <td>-95.209699</td>\n",
       "      <td>NaN</td>\n",
       "      <td>NaN</td>\n",
       "      <td>NaN</td>\n",
       "      <td>NaN</td>\n",
       "    </tr>\n",
       "    <tr>\n",
       "      <th>3</th>\n",
       "      <td>8AF54FB4-BB03-4AFD-9997-D20A5C1637F0</td>\n",
       "      <td>36.588276</td>\n",
       "      <td>-94.755402</td>\n",
       "      <td>36.588276</td>\n",
       "      <td>-94.755402</td>\n",
       "      <td>36.588276</td>\n",
       "      <td>-94.755402</td>\n",
       "      <td>36.588276</td>\n",
       "      <td>-94.755402</td>\n",
       "      <td>36.588276</td>\n",
       "      <td>...</td>\n",
       "      <td>36.588276</td>\n",
       "      <td>-94.755402</td>\n",
       "      <td>36.588276</td>\n",
       "      <td>-94.755402</td>\n",
       "      <td>36.588276</td>\n",
       "      <td>-94.755402</td>\n",
       "      <td>36.588276</td>\n",
       "      <td>-94.755402</td>\n",
       "      <td>NaN</td>\n",
       "      <td>NaN</td>\n",
       "    </tr>\n",
       "  </tbody>\n",
       "</table>\n",
       "<p>3 rows × 179 columns</p>\n",
       "</div>"
      ],
      "text/plain": [
       "                                     id       home     home.1  2017-08-01  \\\n",
       "1  5F265B5D-F46D-4F1B-9549-F0E48A60E224  32.446467 -91.494068         NaN   \n",
       "2  0B4899A7-3BE8-4AA7-BE67-3FD2054F8B02  29.968607 -95.209699   29.968607   \n",
       "3  8AF54FB4-BB03-4AFD-9997-D20A5C1637F0  36.588276 -94.755402   36.588276   \n",
       "\n",
       "   2017-08-01.1  2017-08-02  2017-08-02.1  2017-08-03  2017-08-03.1  \\\n",
       "1           NaN         NaN           NaN         NaN           NaN   \n",
       "2    -95.209699   29.968607    -95.209699   29.968607    -95.209699   \n",
       "3    -94.755402   36.588276    -94.755402   36.588276    -94.755402   \n",
       "\n",
       "   2017-08-04  ...  2017-10-23  2017-10-23.1  2017-10-24  2017-10-24.1  \\\n",
       "1         NaN  ...         NaN           NaN         NaN           NaN   \n",
       "2   29.968607  ...   29.968607    -95.209699   29.968607    -95.209699   \n",
       "3   36.588276  ...   36.588276    -94.755402   36.588276    -94.755402   \n",
       "\n",
       "   2017-10-25  2017-10-25.1  2017-10-26  2017-10-26.1  2017-10-27  \\\n",
       "1         NaN           NaN         NaN           NaN         NaN   \n",
       "2   29.968607    -95.209699         NaN           NaN         NaN   \n",
       "3   36.588276    -94.755402   36.588276    -94.755402         NaN   \n",
       "\n",
       "   2017-10-27.1  \n",
       "1           NaN  \n",
       "2           NaN  \n",
       "3           NaN  \n",
       "\n",
       "[3 rows x 179 columns]"
      ]
     },
     "execution_count": 4,
     "metadata": {},
     "output_type": "execute_result"
    }
   ],
   "source": [
    "df_copy = df.iloc[1:].copy()\n",
    "print (len(df_copy))\n",
    "\n",
    "col_list = df_copy.columns.tolist()[1:]\n",
    "\n",
    "col_list_x = [x for x in col_list if x[-2:]=='.1']\n",
    "col_list_y = [x for x in col_list if x[-2:]!='.1']\n",
    "\n",
    "\n",
    "# Houston bounding box\n",
    "x1 = -96.04\n",
    "x2 = -94.75\n",
    "y1 = 29.4\n",
    "y2 = 30.2\n",
    "\n",
    "# Close Texas bounding box\n",
    "x3 = -100.18\n",
    "x4 = -95.02\n",
    "y3 = 29.06\n",
    "y4 = 33.85\n",
    "\n",
    "for c in col_list:\n",
    "    df_copy[c] = df_copy[c].astype(float)\n",
    "    \n",
    "df_copy.head(3)"
   ]
  },
  {
   "cell_type": "markdown",
   "metadata": {},
   "source": [
    "# 2. Create grid cells \n",
    "* Houston area: 2 decimal places\n",
    "* Texas area: 1 decimal place\n",
    "* Other states: 0 decimal place"
   ]
  },
  {
   "cell_type": "code",
   "execution_count": null,
   "metadata": {},
   "outputs": [],
   "source": [
    "for c in range(len(col_list_x)):\n",
    "    df_copy['tmp'] = 'US'\n",
    "    df_copy['tmp'][(df_copy[col_list_x[c]]<=x4)&(df_copy[col_list_x[c]]>=x3)&\n",
    "                        (df_copy[col_list_y[c]]<=y4)&(df_copy[col_list_y[c]]>=y3)] = 'Texas'\n",
    "    df_copy['tmp'][(df_copy[col_list_x[c]]<=x2)&(df_copy[col_list_x[c]]>=x1)&\n",
    "                        (df_copy[col_list_y[c]]<=y2)&(df_copy[col_list_y[c]]>=y1)] = 'Houston'\n",
    "    \n",
    "    df_copy[col_list_x[c]][df_copy['tmp']=='Houston'] = df_copy[col_list_x[c]].round(2)\n",
    "    df_copy[col_list_y[c]][df_copy['tmp']=='Houston'] = df_copy[col_list_y[c]].round(2)   \n",
    "    df_copy[col_list_x[c]][df_copy['tmp']=='Texas'] = df_copy[col_list_x[c]].round(1)\n",
    "    df_copy[col_list_y[c]][df_copy['tmp']=='Texas'] = df_copy[col_list_y[c]].round(1) \n",
    "    df_copy[col_list_x[c]][df_copy['tmp']=='US'] = df_copy[col_list_x[c]].round(0)\n",
    "    df_copy[col_list_y[c]][df_copy['tmp']=='US'] = df_copy[col_list_y[c]].round(0)"
   ]
  },
  {
   "cell_type": "markdown",
   "metadata": {},
   "source": [
    "# 3. Investigating data: pre-hurricane\n",
    "* ~08/20"
   ]
  },
  {
   "cell_type": "code",
   "execution_count": null,
   "metadata": {},
   "outputs": [],
   "source": [
    "df_pre = df_copy[['id']+col_list_y[:21]+col_list_x[:21]]\n",
    "df_pre = df_pre[((df_pre['home.1']<=x2)&(df_pre['home.1']>=x1)\n",
    "                  &(df_pre['home']<=y2)&(df_pre['home']>=y1))\n",
    "                 ] "
   ]
  },
  {
   "cell_type": "code",
   "execution_count": null,
   "metadata": {},
   "outputs": [],
   "source": [
    "df_h1 = df_copy[['id','home']+col_list_y[25:32]+['home.1']+col_list_x[25:32]]\n",
    "df_h1 = df_h1[((df_h1['home.1']<=x2)&(df_h1['home.1']>=x1)\n",
    "                  &(df_h1['home']<=y2)&(df_h1['home']>=y1))\n",
    "                 ] "
   ]
  },
  {
   "cell_type": "code",
   "execution_count": null,
   "metadata": {},
   "outputs": [],
   "source": [
    "# Create id list\n",
    "id_list_pre = df_pre['id'].unique().tolist()\n",
    "id_list_h1 = df_h1['id'].unique().tolist()\n",
    "print (len(id_list_pre))\n",
    "print (len(id_list_h1))"
   ]
  },
  {
   "cell_type": "code",
   "execution_count": null,
   "metadata": {},
   "outputs": [],
   "source": [
    "# len(col_list_y[1:21])\n",
    "# print (col_list_y[1:21])\n",
    "# print (col_list_y[1])\n",
    "# print (col_list_y[2])\n",
    "# print (col_list_y[20])\n",
    "# print (list(range(1,20)))"
   ]
  },
  {
   "cell_type": "code",
   "execution_count": null,
   "metadata": {},
   "outputs": [],
   "source": [
    "df_pre = df_pre.fillna(0)\n",
    "df_h1 = df_h1.fillna(0)"
   ]
  },
  {
   "cell_type": "code",
   "execution_count": null,
   "metadata": {},
   "outputs": [],
   "source": [
    "# col_list_x[:21], col_list_y[:21]\n",
    "\n",
    "x_list_pre = []\n",
    "y_list_pre = []\n",
    "for i in id_list_pre:\n",
    "    x = df_pre[df_pre['id']==i][col_list_x[1]].values[0]\n",
    "    y = df_pre[df_pre['id']==i][col_list_y[1]].values[0]\n",
    "    for d in range(1,20):\n",
    "        if df_pre[df_pre['id']==i][col_list_x[d+1]].values[0] == 0:\n",
    "#             print (i, col_list_y[d+1])\n",
    "            continue\n",
    "        elif (df_pre[df_pre['id']==i][col_list_x[d+1]].values[0] != x) and \\\n",
    "        (df_pre[df_pre['id']==i][col_list_y[d+1]].values[0] != y):\n",
    "            x = df_pre[df_pre['id']==i][col_list_x[d+1]].values[0]\n",
    "            y = df_pre[df_pre['id']==i][col_list_y[d+1]].values[0]\n",
    "        #print (x,y)\n",
    "    x_list_pre.append(x)\n",
    "    y_list_pre.append(y)\n",
    "    \n",
    "data_pre = pd.DataFrame()\n",
    "data_pre['id'] = id_list_pre\n",
    "data_pre['x_pre'] = x_list_pre\n",
    "data_pre['y_pre'] = y_list_pre"
   ]
  },
  {
   "cell_type": "code",
   "execution_count": null,
   "metadata": {},
   "outputs": [],
   "source": [
    "data_pre.head(2)"
   ]
  },
  {
   "cell_type": "code",
   "execution_count": null,
   "metadata": {},
   "outputs": [],
   "source": [
    "# data_pre.to_csv('../../outputs/data_prep_network_pre.csv', index=False)"
   ]
  },
  {
   "cell_type": "markdown",
   "metadata": {},
   "source": [
    "# 4. Hurricane period 1\n",
    "* 08/25/2017 - 08/30/2017"
   ]
  },
  {
   "cell_type": "code",
   "execution_count": null,
   "metadata": {},
   "outputs": [],
   "source": [
    "df_h1 = df_copy[['id','home']+col_list_y[25:31]+['home.1']+col_list_x[25:31]]\n",
    "df_h1 = df_h1[((df_h1['home.1']<=x2)&(df_h1['home.1']>=x1)\n",
    "                  &(df_h1['home']<=y2)&(df_h1['home']>=y1))\n",
    "                 ] "
   ]
  },
  {
   "cell_type": "code",
   "execution_count": null,
   "metadata": {},
   "outputs": [],
   "source": [
    "df_h1.head()"
   ]
  },
  {
   "cell_type": "code",
   "execution_count": null,
   "metadata": {},
   "outputs": [],
   "source": [
    "id_list_h1 = df_h1['id'].unique().tolist()\n",
    "print (len(id_list_h1))\n",
    "df_h1 = df_h1.fillna(0)\n",
    "\n",
    "\n",
    "# col_list_x[25:31], col_list_y[25:31]\n",
    "\n",
    "x_list_h1 = []\n",
    "y_list_h1 = []\n",
    "for i in id_list_h1:\n",
    "    x = df_h1[df_h1['id']==i][col_list_x[25]].values[0]\n",
    "    y = df_h1[df_h1['id']==i][col_list_y[25]].values[0]\n",
    "    for d in range(25,30):\n",
    "        if df_h1[df_h1['id']==i][col_list_x[d+1]].values[0] == 0:\n",
    "#             print (i, col_list_y[d+1])\n",
    "            continue\n",
    "        elif (df_h1[df_h1['id']==i][col_list_x[d+1]].values[0] != x) and \\\n",
    "        (df_h1[df_h1['id']==i][col_list_y[d+1]].values[0] != y):\n",
    "            x = df_h1[df_h1['id']==i][col_list_x[d+1]].values[0]\n",
    "            y = df_h1[df_h1['id']==i][col_list_y[d+1]].values[0]\n",
    "        #print (x,y)\n",
    "    x_list_h1.append(x)\n",
    "    y_list_h1.append(y)\n",
    "    \n",
    "data_h1 = pd.DataFrame()\n",
    "data_h1['id'] = id_list_h1\n",
    "data_h1['x_h1'] = x_list_h1\n",
    "data_h1['y_h1'] = y_list_h1\n",
    "\n",
    "# data_h1.to_csv('../../outputs/data_prep_network_h1.csv', index=False)\n",
    "data_h1.head(2)"
   ]
  },
  {
   "cell_type": "markdown",
   "metadata": {},
   "source": [
    "# 5. Hurricane period 2\n",
    "* 08/31/2017 - 09/04/2017"
   ]
  },
  {
   "cell_type": "code",
   "execution_count": null,
   "metadata": {},
   "outputs": [],
   "source": [
    "col_list_y[31:36]"
   ]
  },
  {
   "cell_type": "code",
   "execution_count": null,
   "metadata": {},
   "outputs": [],
   "source": [
    "df_h2 = df_copy[['id','home']+col_list_y[31:36]+['home.1']+col_list_x[31:36]]\n",
    "df_h2 = df_h2[((df_h2['home.1']<=x2)&(df_h2['home.1']>=x1)\n",
    "                  &(df_h2['home']<=y2)&(df_h2['home']>=y1))\n",
    "                 ] "
   ]
  },
  {
   "cell_type": "code",
   "execution_count": null,
   "metadata": {},
   "outputs": [],
   "source": [
    "# df_h2.head(2)"
   ]
  },
  {
   "cell_type": "code",
   "execution_count": null,
   "metadata": {},
   "outputs": [],
   "source": [
    "id_list_h2 = df_h2['id'].unique().tolist()\n",
    "print (len(id_list_h2))\n",
    "df_h2 = df_h2.fillna(0)\n",
    "\n",
    "\n",
    "# col_list_x[31:36], col_list_y[31:36]\n",
    "\n",
    "x_list_h2 = []\n",
    "y_list_h2 = []\n",
    "for i in id_list_h2:\n",
    "    x = df_h2[df_h2['id']==i][col_list_x[31]].values[0]\n",
    "    y = df_h2[df_h2['id']==i][col_list_y[31]].values[0]\n",
    "    for d in range(31,35):\n",
    "        if df_h2[df_h2['id']==i][col_list_x[d+1]].values[0] == 0:\n",
    "#             print (i, col_list_y[d+1])\n",
    "            continue\n",
    "        elif (df_h2[df_h2['id']==i][col_list_x[d+1]].values[0] != x) and \\\n",
    "        (df_h2[df_h2['id']==i][col_list_y[d+1]].values[0] != y):\n",
    "            x = df_h2[df_h2['id']==i][col_list_x[d+1]].values[0]\n",
    "            y = df_h2[df_h2['id']==i][col_list_y[d+1]].values[0]\n",
    "        #print (x,y)\n",
    "    x_list_h2.append(x)\n",
    "    y_list_h2.append(y)\n",
    "    \n",
    "data_h2 = pd.DataFrame()\n",
    "data_h2['id'] = id_list_h2\n",
    "data_h2['x_h2'] = x_list_h2\n",
    "data_h2['y_h2'] = y_list_h2\n",
    "\n",
    "# data_h2.to_csv('../../outputs/data_prep_network_h2.csv', index=False)\n",
    "\n",
    "data_h2.head(2)"
   ]
  },
  {
   "cell_type": "markdown",
   "metadata": {},
   "source": [
    "# 6. Post hurricane\n",
    "* 09/05/2017 - 09/10/2017"
   ]
  },
  {
   "cell_type": "code",
   "execution_count": null,
   "metadata": {},
   "outputs": [],
   "source": [
    "print (col_list_y[36:42])"
   ]
  },
  {
   "cell_type": "code",
   "execution_count": null,
   "metadata": {},
   "outputs": [],
   "source": [
    "df_post = df_copy[['id','home']+col_list_y[36:42]+['home.1']+col_list_x[36:42]]\n",
    "df_post = df_post[((df_post['home.1']<=x2)&(df_post['home.1']>=x1)\n",
    "                  &(df_post['home']<=y2)&(df_post['home']>=y1))\n",
    "                 ] \n",
    "\n",
    "# df_post.head(2)"
   ]
  },
  {
   "cell_type": "code",
   "execution_count": null,
   "metadata": {},
   "outputs": [],
   "source": [
    "id_list_post = df_post['id'].unique().tolist()\n",
    "print (len(id_list_post))\n",
    "df_post = df_post.fillna(0)\n",
    "\n",
    "\n",
    "# col_list_x[31:36], col_list_y[31:36]\n",
    "\n",
    "x_list_post = []\n",
    "y_list_post = []\n",
    "for i in id_list_post:\n",
    "    x = df_post[df_post['id']==i][col_list_x[36]].values[0]\n",
    "    y = df_post[df_post['id']==i][col_list_y[36]].values[0]\n",
    "    for d in range(36,41):\n",
    "        if df_post[df_post['id']==i][col_list_x[d+1]].values[0] == 0:\n",
    "#             print (i, col_list_y[d+1])\n",
    "            continue\n",
    "        elif (df_post[df_post['id']==i][col_list_x[d+1]].values[0] != x) and \\\n",
    "        (df_post[df_post['id']==i][col_list_y[d+1]].values[0] != y):\n",
    "            x = df_post[df_post['id']==i][col_list_x[d+1]].values[0]\n",
    "            y = df_post[df_post['id']==i][col_list_y[d+1]].values[0]\n",
    "        #print (x,y)\n",
    "    x_list_post.append(x)\n",
    "    y_list_post.append(y)\n",
    "    \n",
    "data_post = pd.DataFrame()\n",
    "data_post['id'] = id_list_post\n",
    "data_post['x_post'] = x_list_post\n",
    "data_post['y_post'] = y_list_post\n",
    "\n",
    "# data_post.to_csv('../../outputs/data_prep_network_post.csv', index=False)\n",
    "\n",
    "data_post.head(2)"
   ]
  }
 ],
 "metadata": {
  "kernelspec": {
   "display_name": "Jupyter3_BH",
   "language": "python",
   "name": "jupyter3_bh"
  },
  "language_info": {
   "codemirror_mode": {
    "name": "ipython",
    "version": 3
   },
   "file_extension": ".py",
   "mimetype": "text/x-python",
   "name": "python",
   "nbconvert_exporter": "python",
   "pygments_lexer": "ipython3",
   "version": "3.7.4"
  }
 },
 "nbformat": 4,
 "nbformat_minor": 2
}

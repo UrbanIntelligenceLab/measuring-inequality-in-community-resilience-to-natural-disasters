{
 "cells": [
  {
   "cell_type": "markdown",
   "metadata": {},
   "source": [
    "# 005 Clustering - main analysis"
   ]
  },
  {
   "cell_type": "code",
   "execution_count": 1,
   "metadata": {},
   "outputs": [],
   "source": [
    "import pandas as pd\n",
    "import numpy as np\n",
    "from numpy import arange\n",
    "import datetime\n",
    "import matplotlib.pyplot as plt\n",
    "import csv\n",
    "import time\n",
    "import statsmodels.api as sm\n",
    "from sklearn.cluster import KMeans\n",
    "from scipy.spatial.distance import cdist\n",
    "from sklearn.metrics import silhouette_samples, silhouette_score\n",
    "from sklearn.cluster import AgglomerativeClustering\n",
    "import scipy.cluster.hierarchy as sch\n",
    "\n",
    "\n",
    "%matplotlib inline\n",
    "\n",
    "import warnings\n",
    "warnings.filterwarnings(\"ignore\")"
   ]
  },
  {
   "cell_type": "code",
   "execution_count": 2,
   "metadata": {},
   "outputs": [
    {
     "name": "stdout",
     "output_type": "stream",
     "text": [
      "('statsmodels', '0.9.0')\n",
      "('scipy', '1.1.0')\n",
      "('pandas', '0.24.0')\n",
      "('numpy', '1.15.4')\n",
      "('matplotlib', '2.2.3')\n"
     ]
    }
   ],
   "source": [
    "# Check package versions\n",
    "import types \n",
    "def imports():\n",
    "    for name, val in globals().items():\n",
    "        if isinstance(val, types.ModuleType):\n",
    "            yield val.__name__\n",
    "\n",
    "import pkg_resources\n",
    "root_packages = [i.split('.', 1)[0] for i in list(imports())] \n",
    "for m in pkg_resources.working_set:\n",
    "    if m.project_name.lower() in root_packages:\n",
    "        print (m.project_name, m.version)"
   ]
  },
  {
   "cell_type": "code",
   "execution_count": null,
   "metadata": {},
   "outputs": [],
   "source": [
    "def convert_bytes(num):\n",
    "    \"\"\"this function will convert bytes to MB, GB, etc\"\"\"\n",
    "    for x in ['bytes', 'KB', 'MB', 'GB', 'TB']:\n",
    "        if num < 1024.0:\n",
    "            return \"%3.1f %s\" % (num, x)\n",
    "        num /= 1024.0\n",
    "        \n",
    "def file_size(file_path):\n",
    "    \"\"\"this function will return the file size\"\"\"\n",
    "    if os.path.isfile(file_path):\n",
    "        file_info = os.stat(file_path)\n",
    "        return convert_bytes(file_info.st_size)"
   ]
  },
  {
   "cell_type": "code",
   "execution_count": null,
   "metadata": {},
   "outputs": [],
   "source": [
    "fp = r'../../outputs/nighttime_mode_cell_post_daily.csv'\n",
    "print (file_size(fp))"
   ]
  },
  {
   "cell_type": "markdown",
   "metadata": {},
   "source": [
    "# 1. Baseline - Home grid cell\n",
    "* Load baseline of each user\n",
    "* Calculate the number of people how stay in a given cell\n",
    "* Compare to actual population (not applicable here)"
   ]
  },
  {
   "cell_type": "code",
   "execution_count": null,
   "metadata": {},
   "outputs": [],
   "source": [
    "# Load baseline\n",
    "df = pd.read_csv('../../outputs/nighttime_mode_cell_pre_baseline.csv')\n",
    "print (len(df))\n",
    "df.head(2)"
   ]
  },
  {
   "cell_type": "code",
   "execution_count": null,
   "metadata": {},
   "outputs": [],
   "source": [
    "df[df['ad_id']=='9520698F-82FE-4831-BDAF-A2F70092FCB7']"
   ]
  },
  {
   "cell_type": "code",
   "execution_count": null,
   "metadata": {},
   "outputs": [],
   "source": [
    "# Calculating the number of people staying in a given cell\n",
    "df.columns = ['ad_id', 'cell_id', 'mode_count', 'mode_activity']\n",
    "\n",
    "df_cell = df[['cell_id', 'ad_id']].groupby('cell_id').count().reset_index()\n",
    "df_cell.columns = ['cell_id', 'baseline']\n",
    "df_cell.head(2)"
   ]
  },
  {
   "cell_type": "code",
   "execution_count": null,
   "metadata": {},
   "outputs": [],
   "source": [
    "df_cell.describe()"
   ]
  },
  {
   "cell_type": "markdown",
   "metadata": {},
   "source": [
    "# 2. Result of pre-hurricane"
   ]
  },
  {
   "cell_type": "code",
   "execution_count": null,
   "metadata": {},
   "outputs": [],
   "source": [
    "# Load daily mode of each user\n",
    "df_pre = pd.read_csv('../../outputs/nighttime_mode_cell_pre_daily.csv')\n",
    "print (len(df_pre))\n",
    "df_pre.head(2)"
   ]
  },
  {
   "cell_type": "code",
   "execution_count": null,
   "metadata": {},
   "outputs": [],
   "source": [
    "print (len(df_pre['ad_id'].unique()))\n",
    "print (sum(df_pre['count']))"
   ]
  },
  {
   "cell_type": "code",
   "execution_count": null,
   "metadata": {},
   "outputs": [],
   "source": [
    "# Calculating the number of people in a given cell at the daily level\n",
    "df_pre_cell = df_pre[['cell_id', 'ad_id', 'date_revised']].groupby(['cell_id', 'date_revised']).count().reset_index()\n",
    "df_pre_cell.head(2)"
   ]
  },
  {
   "cell_type": "code",
   "execution_count": null,
   "metadata": {},
   "outputs": [],
   "source": [
    "# Pivot data (columns are dates)\n",
    "df_pre_cell_pivot = df_pre_cell.pivot(index='cell_id', columns='date_revised', values='ad_id').reset_index()\n",
    "df_pre_cell_pivot.head(2)"
   ]
  },
  {
   "cell_type": "markdown",
   "metadata": {},
   "source": [
    "# 3. Result of post-hurricane"
   ]
  },
  {
   "cell_type": "code",
   "execution_count": null,
   "metadata": {},
   "outputs": [],
   "source": [
    "df_post = pd.read_csv('../../outputs/nighttime_mode_cell_post_daily.csv')\n",
    "print (len(df_post))\n",
    "df_post.head(2)"
   ]
  },
  {
   "cell_type": "code",
   "execution_count": null,
   "metadata": {},
   "outputs": [],
   "source": [
    "df_post_cell = df_post[['cell_id', 'ad_id', 'date_revised']].groupby(['cell_id', 'date_revised']).count().reset_index()\n",
    "df_post_cell.head(2)"
   ]
  },
  {
   "cell_type": "code",
   "execution_count": null,
   "metadata": {},
   "outputs": [],
   "source": [
    "df_post_cell_pivot = df_post_cell.pivot(index='cell_id', columns='date_revised', values='ad_id').reset_index()\n",
    "df_post_cell_pivot.head(2)"
   ]
  },
  {
   "cell_type": "markdown",
   "metadata": {},
   "source": [
    "# 4. Merge\n",
    "* Baseline\n",
    "* pre-hurricane\n",
    "* Post-hurricane"
   ]
  },
  {
   "cell_type": "code",
   "execution_count": null,
   "metadata": {},
   "outputs": [],
   "source": [
    "df_total = pd.merge(df_cell, df_pre_cell_pivot, how='outer', on='cell_id')\n",
    "df_total = pd.merge(df_total, df_post_cell_pivot, how='outer', on='cell_id')"
   ]
  },
  {
   "cell_type": "code",
   "execution_count": null,
   "metadata": {},
   "outputs": [],
   "source": [
    "df_total = df_total.reset_index(drop=True)\n",
    "df_total = df_total.fillna(0)\n",
    "df_total.head()"
   ]
  },
  {
   "cell_type": "markdown",
   "metadata": {},
   "source": [
    "# 5. Calculating average number of people in a given cell before Harvey"
   ]
  },
  {
   "cell_type": "code",
   "execution_count": null,
   "metadata": {},
   "outputs": [],
   "source": [
    "date_list_pre = ['2017-08-01',  '2017-08-02', '2017-08-03', '2017-08-04', '2017-08-05', '2017-08-06', \n",
    "                 '2017-08-07', '2017-08-08', '2017-08-09', '2017-08-10', '2017-08-11', '2017-08-12', \n",
    "                 '2017-08-13', '2017-08-14', '2017-08-15', '2017-08-16','2017-08-17', \n",
    "                       '2017-08-18', '2017-08-19', '2017-08-20']\n",
    "\n",
    "df_total['avg'] = df_total[date_list_pre].mean(axis=1)\n",
    "df_total.head(2)"
   ]
  },
  {
   "cell_type": "markdown",
   "metadata": {},
   "source": [
    "# Load grid cell info about %of residential area"
   ]
  },
  {
   "cell_type": "code",
   "execution_count": null,
   "metadata": {},
   "outputs": [],
   "source": [
    "res = pd.read_csv('../../data/harris_county_grid_pct_res.csv')\n",
    "res.head(2)"
   ]
  },
  {
   "cell_type": "code",
   "execution_count": null,
   "metadata": {},
   "outputs": [],
   "source": [
    "df_total = pd.merge(df_total, res, on='cell_id', how='left')\n",
    "df_total.head(2)"
   ]
  },
  {
   "cell_type": "code",
   "execution_count": null,
   "metadata": {},
   "outputs": [],
   "source": [
    "df_total[df_total['pct_res']>0].head(2)"
   ]
  },
  {
   "cell_type": "code",
   "execution_count": null,
   "metadata": {},
   "outputs": [],
   "source": [
    "df_total = df_total[df_total['pct_res'].notnull()]"
   ]
  },
  {
   "cell_type": "markdown",
   "metadata": {},
   "source": [
    "### Drop cells with insufficient pings (<10)"
   ]
  },
  {
   "cell_type": "code",
   "execution_count": null,
   "metadata": {},
   "outputs": [],
   "source": [
    "df_total = df_total[df_total['avg']>10].reset_index(drop=True)"
   ]
  },
  {
   "cell_type": "code",
   "execution_count": null,
   "metadata": {},
   "outputs": [],
   "source": [
    "df_total_T = df_total[['cell_id', '2017-08-01', '2017-08-02', '2017-08-03', '2017-08-04', '2017-08-05', \n",
    "                       '2017-08-06', '2017-08-07', '2017-08-08', '2017-08-09', '2017-08-10', '2017-08-11', \n",
    "                       '2017-08-12', '2017-08-13', '2017-08-14', '2017-08-15', '2017-08-16', '2017-08-17', \n",
    "                       '2017-08-18', '2017-08-19', '2017-08-20', '2017-08-21', '2017-08-22', '2017-08-23', \n",
    "                       '2017-08-24', '2017-08-25', '2017-08-26', '2017-08-27', '2017-08-28', '2017-08-29', \n",
    "                       '2017-08-30', '2017-08-31', '2017-09-01', '2017-09-02', '2017-09-03', '2017-09-04', \n",
    "                       '2017-09-05', '2017-09-06', '2017-09-07', '2017-09-08', '2017-09-09', '2017-09-10', \n",
    "                       '2017-09-11', '2017-09-12', '2017-09-13', '2017-09-14', '2017-09-15', '2017-09-16', \n",
    "                       '2017-09-17', '2017-09-18', '2017-09-19', '2017-09-20', '2017-09-21', '2017-09-22', \n",
    "                       '2017-09-23', '2017-09-24', '2017-09-25', '2017-09-26', '2017-09-27', '2017-09-28', \n",
    "                       '2017-09-29']].set_index('cell_id').T\n",
    "\n",
    "df_total_T.head(2)"
   ]
  },
  {
   "cell_type": "markdown",
   "metadata": {},
   "source": [
    "# 6. Calculating distance from the average to daily users\n",
    "* Distance = daily number of users - average number of users before Harvey"
   ]
  },
  {
   "cell_type": "code",
   "execution_count": null,
   "metadata": {},
   "outputs": [],
   "source": [
    "df_total.head()"
   ]
  },
  {
   "cell_type": "code",
   "execution_count": null,
   "metadata": {},
   "outputs": [],
   "source": [
    "df_total_dist = df_total.copy()\n",
    "\n",
    "date_list_post = ['2017-08-01', '2017-08-02', '2017-08-03', '2017-08-04', '2017-08-05', \n",
    "                       '2017-08-06', '2017-08-07', '2017-08-08', '2017-08-09', '2017-08-10', '2017-08-11', \n",
    "                       '2017-08-12', '2017-08-13', '2017-08-14', '2017-08-15', '2017-08-16', '2017-08-17', \n",
    "                       '2017-08-18', '2017-08-19', '2017-08-20', '2017-08-21', '2017-08-22', '2017-08-23', \n",
    "                       '2017-08-24', '2017-08-25', '2017-08-26', '2017-08-27', '2017-08-28', '2017-08-29', \n",
    "                       '2017-08-30', '2017-08-31', '2017-09-01', '2017-09-02', '2017-09-03', '2017-09-04', \n",
    "                       '2017-09-05', '2017-09-06', '2017-09-07', '2017-09-08', '2017-09-09', '2017-09-10', \n",
    "                       '2017-09-11', '2017-09-12', '2017-09-13', '2017-09-14', '2017-09-15', '2017-09-16', \n",
    "                       '2017-09-17', '2017-09-18', '2017-09-19', '2017-09-20', '2017-09-21', '2017-09-22', \n",
    "                       '2017-09-23', '2017-09-24', '2017-09-25', '2017-09-26', '2017-09-27', '2017-09-28', \n",
    "                       '2017-09-29']\n",
    "\n",
    "for col in date_list_post:\n",
    "    df_total_dist[col] = (df_total_dist[col] - df_total_dist['avg']) / df_total_dist['avg']\n",
    "\n",
    "df_total_dist = df_total_dist.reset_index(drop=True)\n",
    "df_total_dist.tail()"
   ]
  },
  {
   "cell_type": "code",
   "execution_count": null,
   "metadata": {},
   "outputs": [],
   "source": [
    "df_total_dist_transposed = df_total_dist[['cell_id', '2017-08-01', '2017-08-02', '2017-08-03', '2017-08-04', '2017-08-05', \n",
    "                       '2017-08-06', '2017-08-07', '2017-08-08', '2017-08-09', '2017-08-10', '2017-08-11', \n",
    "                       '2017-08-12', '2017-08-13', '2017-08-14', '2017-08-15', '2017-08-16', '2017-08-17', \n",
    "                       '2017-08-18', '2017-08-19', '2017-08-20', '2017-08-21', '2017-08-22', '2017-08-23', \n",
    "                       '2017-08-24', '2017-08-25', '2017-08-26', '2017-08-27', '2017-08-28', '2017-08-29', \n",
    "                       '2017-08-30', '2017-08-31', '2017-09-01', '2017-09-02', '2017-09-03', '2017-09-04', \n",
    "                       '2017-09-05', '2017-09-06', '2017-09-07', '2017-09-08', '2017-09-09', '2017-09-10', \n",
    "                       '2017-09-11', '2017-09-12', '2017-09-13', '2017-09-14', '2017-09-15', '2017-09-16', \n",
    "                       '2017-09-17', '2017-09-18', '2017-09-19', '2017-09-20', '2017-09-21', '2017-09-22', \n",
    "                       '2017-09-23', '2017-09-24', '2017-09-25', '2017-09-26', '2017-09-27', '2017-09-28', \n",
    "                       '2017-09-29']].set_index('cell_id').T\n",
    "df_total_dist_transposed.index = pd.to_datetime(df_total_dist_transposed.index)\n",
    "df_total_dist_transposed.head(2)"
   ]
  },
  {
   "cell_type": "code",
   "execution_count": null,
   "metadata": {},
   "outputs": [],
   "source": [
    "print (len(df_total_dist_transposed.columns.tolist()))"
   ]
  },
  {
   "cell_type": "markdown",
   "metadata": {},
   "source": [
    "# 7. Exploing patterns and extract trend line"
   ]
  },
  {
   "cell_type": "code",
   "execution_count": null,
   "metadata": {},
   "outputs": [],
   "source": [
    "decomp_observed = pd.DataFrame(index=date_list_post)\n",
    "decomp_trend = pd.DataFrame(index=date_list_post)\n",
    "\n",
    "for c in df_total_dist_transposed.columns.tolist():\n",
    "    try:\n",
    "        decomposition = sm.tsa.seasonal_decompose(df_total_dist_transposed[c], model='additive')\n",
    "        decomp_observed[c] = decomposition.observed\n",
    "        decomp_trend[c] = decomposition.trend\n",
    "        \n",
    "    except ValueError:\n",
    "        print c"
   ]
  },
  {
   "cell_type": "markdown",
   "metadata": {},
   "source": [
    "# 8. Clustering of the change of the number of users staying in a given cell\n",
    "* Preparing transposed dataframe and array\n",
    "* Converting to numpy array"
   ]
  },
  {
   "cell_type": "code",
   "execution_count": null,
   "metadata": {},
   "outputs": [],
   "source": [
    "# Timeseires with numpy array\n",
    "myarray = np.transpose(decomp_trend.dropna().as_matrix())\n",
    "print (myarray.shape)"
   ]
  },
  {
   "cell_type": "code",
   "execution_count": null,
   "metadata": {},
   "outputs": [],
   "source": [
    "list_ctids = decomp_trend.columns.tolist()\n",
    "print (len(list_ctids))\n",
    "print (list_ctids[0])"
   ]
  },
  {
   "cell_type": "markdown",
   "metadata": {},
   "source": [
    "### K-Means Clustering for change (percentage) values between average users and daily users at the grid cell level"
   ]
  },
  {
   "cell_type": "code",
   "execution_count": null,
   "metadata": {},
   "outputs": [],
   "source": [
    "# K means determine K\n",
    "distortions = []\n",
    "K = range(1,20)\n",
    "for k in K:\n",
    "    kmeanModel = KMeans(n_clusters=k).fit(myarray)\n",
    "    kmeanModel.fit(myarray)\n",
    "    distortions.append(sum(np.min(cdist(myarray, kmeanModel.cluster_centers_, 'euclidean'), axis=1))/myarray.shape[0])\n",
    "    \n",
    "plt.plot(K, distortions, 'bx-')\n",
    "plt.xlabel('k')\n",
    "plt.ylabel('Distortion')\n",
    "plt.title('The Elbow Method showing the optimal k')\n",
    "plt.show()"
   ]
  },
  {
   "cell_type": "code",
   "execution_count": null,
   "metadata": {},
   "outputs": [],
   "source": [
    "# Silhoutte test\n",
    "\n",
    "sil = []\n",
    "\n",
    "for i in range(2,20):\n",
    "    km = KMeans(n_clusters=i)\n",
    "    y_km = km.fit_predict(myarray)\n",
    "    sil.append(silhouette_score(myarray, y_km))\n",
    "    \n",
    "plt.figure()\n",
    "plt.plot(range(2,20), sil, marker='o', c='b')\n",
    "plt.show()"
   ]
  },
  {
   "cell_type": "code",
   "execution_count": null,
   "metadata": {},
   "outputs": [],
   "source": [
    "yymmdd_list = range(54)\n",
    "yymmdd_list_str = ['2017-08-04', '2017-08-05', \n",
    "                       '2017-08-06', '2017-08-07', '2017-08-08', '2017-08-09', '2017-08-10', '2017-08-11', \n",
    "                       '2017-08-12', '2017-08-13', '2017-08-14', '2017-08-15', '2017-08-16', '2017-08-17', \n",
    "                       '2017-08-18', '2017-08-19', '2017-08-20', '2017-08-21', '2017-08-22', '2017-08-23', \n",
    "                       '2017-08-24', '2017-08-25', '2017-08-26', '2017-08-27', '2017-08-28', '2017-08-29', \n",
    "                       '2017-08-30', '2017-08-31', '2017-09-01', '2017-09-02', '2017-09-03', '2017-09-04', \n",
    "                       '2017-09-05', '2017-09-06', '2017-09-07', '2017-09-08', '2017-09-09', '2017-09-10', \n",
    "                       '2017-09-11', '2017-09-12', '2017-09-13', '2017-09-14', '2017-09-15', '2017-09-16', \n",
    "                       '2017-09-17', '2017-09-18', '2017-09-19', '2017-09-20', '2017-09-21', '2017-09-22', \n",
    "                       '2017-09-23', '2017-09-24', '2017-09-25', '2017-09-26']"
   ]
  },
  {
   "cell_type": "markdown",
   "metadata": {},
   "source": [
    "## Agglomerative Clustering"
   ]
  },
  {
   "cell_type": "code",
   "execution_count": null,
   "metadata": {},
   "outputs": [],
   "source": [
    "# Agglomerative clustering dendrogram\n",
    "plt.figure(figsize=(10,10))\n",
    "d = sch.dendrogram(sch.linkage(myarray, method='ward'))"
   ]
  },
  {
   "cell_type": "code",
   "execution_count": null,
   "metadata": {},
   "outputs": [],
   "source": [
    "whole_mean = []\n",
    "whole_3std1 = []\n",
    "whole_3std2 = []\n",
    "for d in range(len(myarray[0])):\n",
    "    A = []\n",
    "    for n in range(len(myarray)):\n",
    "        a = myarray[n][d]\n",
    "        A.append(a)\n",
    "    whole_mean.append(sum(A)/float(len(A)))    \n",
    "    whole_3std1.append(3*np.std(A))\n",
    "    #whole_3std2.append((sum(A)/float(len(A)))-3*np.std(A))"
   ]
  },
  {
   "cell_type": "code",
   "execution_count": null,
   "metadata": {},
   "outputs": [],
   "source": [
    "model = AgglomerativeClustering(n_clusters=4, affinity='euclidean', linkage='ward')\n",
    "\n",
    "model.fit(myarray)\n",
    "labels = model.labels_\n",
    "\n",
    "labels_N = np.zeros([4,myarray.shape[0]])\n",
    "for n in range(4):\n",
    "    for i in range(len(myarray)):\n",
    "        if labels[i]==n:\n",
    "            labels_N[n][i]=1\n",
    "        else:\n",
    "            labels_N[n][i]=0\n",
    "\n",
    "meancenter4 = np.zeros([4,myarray.shape[1]])\n",
    "std4 = np.zeros([4,myarray.shape[1]])\n",
    "\n",
    "for n in range(len(labels_N)):\n",
    "    for i in range(len(myarray[0])):\n",
    "        A=[]\n",
    "        for j in range(len(myarray)):\n",
    "            a=myarray[j][i]*labels_N[n][j]\n",
    "            A.append(a)\n",
    "        meancenter4[n][i] = sum(A)/sum(labels_N[n])\n",
    "        std4[n][i] = np.std(np.trim_zeros(A))\n",
    "        "
   ]
  },
  {
   "cell_type": "code",
   "execution_count": null,
   "metadata": {},
   "outputs": [],
   "source": [
    "print len(A)\n",
    "print len(labels)"
   ]
  },
  {
   "cell_type": "markdown",
   "metadata": {},
   "source": [
    "# 9. Calculate Area Under Cure for each grids"
   ]
  },
  {
   "cell_type": "code",
   "execution_count": null,
   "metadata": {},
   "outputs": [],
   "source": [
    "list_cts = []\n",
    "for i in range(len(myarray)):\n",
    "    list_cts.append(myarray[i]-whole_mean) # Indivicual CTs' coordinates\n",
    "            \n",
    "list_0 = []\n",
    "for i in range(len(labels_N)):\n",
    "    list_0.append(meancenter4[i]-whole_mean)"
   ]
  },
  {
   "cell_type": "code",
   "execution_count": null,
   "metadata": {},
   "outputs": [],
   "source": [
    "print (len(list_cts)) # Individual CTs \n",
    "print (len(myarray)) # Individual CTs original value\n",
    "print (len(labels)) # clustering results of CTs\n",
    "print (len(list_ctids)) # list of CT IDs"
   ]
  },
  {
   "cell_type": "code",
   "execution_count": null,
   "metadata": {},
   "outputs": [],
   "source": [
    "def PolygonArea(corners):\n",
    "    n = len(corners)\n",
    "    a = 0.0\n",
    "    for i in range(n):\n",
    "        j = (i+1) % n\n",
    "        a += abs(corners[i][0] * corners[j][1] - corners[j][0] * corners[i][1])\n",
    "        \n",
    "    area = a / 2.0\n",
    "    return area\n",
    "\n",
    "corners = [(0.0,0.0), (1.0,0.0), (0.0,1.0), (1.0, 1.0)]\n",
    "PolygonArea(corners)"
   ]
  },
  {
   "cell_type": "code",
   "execution_count": null,
   "metadata": {},
   "outputs": [],
   "source": [
    "# Calculate Area Under Curve for each CTs\n",
    "x_values = range(55)\n",
    "\n",
    "list_auc = []\n",
    "for i in range(len(list_cts)):\n",
    "    xy = zip(x_values, list_cts[i])\n",
    "    xy = [(0,0)]+xy\n",
    "    xy.append((54,0))\n",
    "    area = PolygonArea(xy)\n",
    "    list_auc.append(area)\n",
    "\n",
    "print (len(list_auc))\n",
    "print (list_auc[:5]) #result"
   ]
  },
  {
   "cell_type": "code",
   "execution_count": null,
   "metadata": {},
   "outputs": [],
   "source": [
    "# Code for area calculation of above/below curve - considering positive/negative values\n",
    "list_auc_2 = []\n",
    "for c in range(len(list_cts)):\n",
    "    area_part = []\n",
    "    for i in range(len(list_cts[c])):\n",
    "        if i == len(list_cts[c])-1:\n",
    "            break\n",
    "        else:\n",
    "            a = (list_cts[c][i] + list_cts[c][i+1])*0.5\n",
    "            area_part.append(a)\n",
    "    #print len(area_part)\n",
    "    #print sum(area_part)\n",
    "    list_auc_2.append(sum(area_part))\n",
    "\n",
    "print (len(list_auc_2))\n",
    "print (list_auc_2[:5])"
   ]
  },
  {
   "cell_type": "code",
   "execution_count": null,
   "metadata": {},
   "outputs": [],
   "source": [
    "# Area Under Curve of 4 representatives of clustering result\n",
    "x_values = range(54)\n",
    "xy_0 = zip(x_values, list_0[0])\n",
    "xy_0 = [(0,0)]+xy_0\n",
    "xy_0.append((54,0))\n",
    "#print xy_0\n",
    "\n",
    "xy_1 = zip(x_values, list_0[1])\n",
    "xy_1 = [(0,0)]+xy_1\n",
    "xy_1.append((54,0))\n",
    "\n",
    "xy_2 = zip(x_values, list_0[2])\n",
    "xy_2 = [(0,0)]+xy_2\n",
    "xy_2.append((54,0))\n",
    "\n",
    "xy_3 = zip(x_values, list_0[3])\n",
    "xy_3 = [(0,0)]+xy_3\n",
    "xy_3.append((54,0))"
   ]
  },
  {
   "cell_type": "markdown",
   "metadata": {},
   "source": [
    "# 10. Collect results"
   ]
  },
  {
   "cell_type": "code",
   "execution_count": null,
   "metadata": {},
   "outputs": [],
   "source": [
    "myarray_adjusted = []\n",
    "for i in range(len(myarray)):\n",
    "    for n in range(4):\n",
    "#         if group_Kc3[i]==n:\n",
    "        if labels[i]==n:\n",
    "            #plt.plot(yymmddhh_list, myarray[i]-whole_mean, color=colors[n], alpha=0.3, linewidth=linewidths[n])\n",
    "            myarray_adjusted.append(myarray[i]-whole_mean)"
   ]
  },
  {
   "cell_type": "code",
   "execution_count": null,
   "metadata": {},
   "outputs": [],
   "source": [
    "# Mapping\n",
    "# Merge dataset\n",
    "re = pd.DataFrame(myarray_adjusted)\n",
    "re.index = df_total['cell_id']\n",
    "re.columns = yymmdd_list_str\n",
    "\n",
    "re['label'] = labels\n",
    "\n",
    "re['auc'] = list_auc\n",
    "re['auc_2'] = list_auc_2\n",
    "\n",
    "re = re.reset_index()\n",
    "re.head(2)"
   ]
  },
  {
   "cell_type": "code",
   "execution_count": null,
   "metadata": {},
   "outputs": [],
   "source": [
    "re['label'].value_counts()"
   ]
  },
  {
   "cell_type": "code",
   "execution_count": null,
   "metadata": {},
   "outputs": [],
   "source": [
    "print (re[re['label']==0]['auc_2'].mean())\n",
    "print (re[re['label']==1]['auc_2'].mean())\n",
    "print (re[re['label']==2]['auc_2'].mean())\n",
    "print (re[re['label']==3]['auc_2'].mean())"
   ]
  },
  {
   "cell_type": "markdown",
   "metadata": {},
   "source": [
    "# 11. Magnitude of impact of each neighborhoods\n",
    "* Depth of curve\n",
    "* Height of curve"
   ]
  },
  {
   "cell_type": "code",
   "execution_count": null,
   "metadata": {},
   "outputs": [],
   "source": [
    "re['depth'] = re[['2017-08-22', '2017-08-23','2017-08-24','2017-08-25', '2017-08-26', '2017-08-27', \n",
    "                  '2017-08-28', '2017-08-29', \n",
    "                 '2017-08-30', '2017-08-31', '2017-09-01', '2017-09-02', '2017-09-03',\n",
    "                 '2017-09-04', '2017-09-05']].min(axis=1) #decreasing CTs\n",
    "re['height'] = re[['2017-08-22', '2017-08-23','2017-08-24',\n",
    "                   '2017-08-25', '2017-08-26', '2017-08-27', '2017-08-28', '2017-08-29', \n",
    "                 '2017-08-30', '2017-08-31', '2017-09-01', '2017-09-02', '2017-09-03',\n",
    "                 '2017-09-04', '2017-09-05']].max(axis=1) #increasing CTs"
   ]
  },
  {
   "cell_type": "code",
   "execution_count": null,
   "metadata": {},
   "outputs": [],
   "source": [
    "re['x'], re['y'] = re['cell_id'].str.split(',',1).str\n",
    "re.head()"
   ]
  },
  {
   "cell_type": "markdown",
   "metadata": {},
   "source": [
    "# 12. Export agglomerative clustering result"
   ]
  },
  {
   "cell_type": "code",
   "execution_count": null,
   "metadata": {},
   "outputs": [],
   "source": [
    "# re.to_csv('../../outputs/clustering_result.csv', index=False)"
   ]
  },
  {
   "cell_type": "code",
   "execution_count": null,
   "metadata": {},
   "outputs": [],
   "source": []
  }
 ],
 "metadata": {
  "kernelspec": {
   "display_name": "Python 2",
   "language": "python",
   "name": "python2"
  },
  "language_info": {
   "codemirror_mode": {
    "name": "ipython",
    "version": 2
   },
   "file_extension": ".py",
   "mimetype": "text/x-python",
   "name": "python",
   "nbconvert_exporter": "python",
   "pygments_lexer": "ipython2",
   "version": "2.7.15"
  }
 },
 "nbformat": 4,
 "nbformat_minor": 2
}

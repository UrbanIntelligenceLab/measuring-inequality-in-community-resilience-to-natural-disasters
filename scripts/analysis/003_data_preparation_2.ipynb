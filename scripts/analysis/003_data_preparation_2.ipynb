{
 "cells": [
  {
   "cell_type": "markdown",
   "metadata": {},
   "source": [
    "# 003 Data Preparation 2\n",
    "* This notebooke includes scripts for data preparation to identify pings on highways and major roads."
   ]
  },
  {
   "cell_type": "code",
   "execution_count": 1,
   "metadata": {},
   "outputs": [],
   "source": [
    "import pandas as pd\n",
    "import numpy as np\n",
    "import csv\n",
    "import time\n",
    "\n",
    "import warnings\n",
    "warnings.filterwarnings(\"ignore\")"
   ]
  },
  {
   "cell_type": "code",
   "execution_count": 2,
   "metadata": {},
   "outputs": [
    {
     "name": "stdout",
     "output_type": "stream",
     "text": [
      "('pandas', '0.24.0')\n",
      "('numpy', '1.15.4')\n"
     ]
    }
   ],
   "source": [
    "# Check package versions\n",
    "import types \n",
    "def imports():\n",
    "    for name, val in globals().items():\n",
    "        if isinstance(val, types.ModuleType):\n",
    "            yield val.__name__\n",
    "\n",
    "import pkg_resources\n",
    "root_packages = [i.split('.', 1)[0] for i in list(imports())] \n",
    "for m in pkg_resources.working_set:\n",
    "    if m.project_name.lower() in root_packages:\n",
    "        print (m.project_name, m.version)"
   ]
  },
  {
   "cell_type": "markdown",
   "metadata": {},
   "source": [
    "## Check txt outputs from the previous step"
   ]
  },
  {
   "cell_type": "code",
   "execution_count": null,
   "metadata": {},
   "outputs": [],
   "source": [
    "import glob\n",
    "tmp_list = glob.glob(\"../../data/result_excluding_pings_highway/*.txt\")\n",
    "tmp_list_num = list(map(lambda st: str.replace(st, \"../../data/result_excluding_pings_highway/pings_highway_\", \"\"), tmp_list))\n",
    "tmp_list_num = list(map(lambda st: str.replace(st, \".txt\", \"\"), tmp_list_num))\n",
    "tmp_list_num = list(map(lambda st: int(st), tmp_list_num))\n",
    "tmp_list_num.sort()\n",
    "print (len(tmp_list))\n",
    "print (tmp_list[0])\n",
    "print (tmp_list_num[:5])\n",
    "print (tmp_list_num[-5:])"
   ]
  },
  {
   "cell_type": "markdown",
   "metadata": {},
   "source": [
    "### Load all txt files from the previous step and append highway labels\n",
    "* False (0): pings outside of highways\n",
    "* True (1): pings on highways"
   ]
  },
  {
   "cell_type": "code",
   "execution_count": null,
   "metadata": {},
   "outputs": [],
   "source": [
    "full_list_highway = []\n",
    "\n",
    "for n in tmp_list_num:\n",
    "    filename = '../../data/result_excluding_pings_highway/pings_highway_%s.txt' %(str(n))\n",
    "    \n",
    "    file = open(filename, 'r')\n",
    "    subset = file.read()\n",
    "    subset = subset.strip('][').split(', ')\n",
    "    \n",
    "    full_list_highway.extend(subset)\n",
    "\n",
    "print (full_list_highway[90:100])"
   ]
  },
  {
   "cell_type": "markdown",
   "metadata": {},
   "source": [
    "### Laod two months period data "
   ]
  },
  {
   "cell_type": "code",
   "execution_count": null,
   "metadata": {},
   "outputs": [],
   "source": [
    "fp = '../../data/houston_aug_sep_2017.csv'\n",
    "df = pd.read_csv(fp)\n",
    "print len(df)"
   ]
  },
  {
   "cell_type": "markdown",
   "metadata": {},
   "source": [
    "### Add a column with highway labels"
   ]
  },
  {
   "cell_type": "code",
   "execution_count": null,
   "metadata": {},
   "outputs": [],
   "source": [
    "# add a column from full_list_highway to the dataframe\n",
    "df['highway'] = full_list_highway"
   ]
  },
  {
   "cell_type": "code",
   "execution_count": null,
   "metadata": {},
   "outputs": [],
   "source": [
    "df.head()"
   ]
  },
  {
   "cell_type": "markdown",
   "metadata": {},
   "source": [
    "### Export data as csv for the next steps"
   ]
  },
  {
   "cell_type": "code",
   "execution_count": null,
   "metadata": {},
   "outputs": [],
   "source": [
    "#df.to_csv('../../outputs/houston_aug_sep_2017_highway.csv')"
   ]
  }
 ],
 "metadata": {
  "kernelspec": {
   "display_name": "Python 2",
   "language": "python",
   "name": "python2"
  },
  "language_info": {
   "codemirror_mode": {
    "name": "ipython",
    "version": 2
   },
   "file_extension": ".py",
   "mimetype": "text/x-python",
   "name": "python",
   "nbconvert_exporter": "python",
   "pygments_lexer": "ipython2",
   "version": "2.7.15"
  }
 },
 "nbformat": 4,
 "nbformat_minor": 2
}

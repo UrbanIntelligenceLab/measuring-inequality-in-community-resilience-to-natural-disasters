{
 "cells": [
  {
   "cell_type": "markdown",
   "metadata": {},
   "source": [
    "# 004 Pre analysis before clustering\n",
    "* Filter pings on highways and major roads\n",
    "* Indentify home locations for users at a grid level"
   ]
  },
  {
   "cell_type": "code",
   "execution_count": 1,
   "metadata": {},
   "outputs": [],
   "source": [
    "import pandas as pd\n",
    "import numpy as np\n",
    "import datetime\n",
    "import json\n",
    "import matplotlib.pyplot as plt\n",
    "%matplotlib inline\n",
    "\n",
    "import warnings\n",
    "warnings.filterwarnings(\"ignore\")"
   ]
  },
  {
   "cell_type": "code",
   "execution_count": 2,
   "metadata": {},
   "outputs": [
    {
     "name": "stdout",
     "output_type": "stream",
     "text": [
      "('pandas', '0.24.0')\n",
      "('numpy', '1.15.4')\n",
      "('matplotlib', '2.2.3')\n"
     ]
    }
   ],
   "source": [
    "# Check package versions\n",
    "import types \n",
    "def imports():\n",
    "    for name, val in globals().items():\n",
    "        if isinstance(val, types.ModuleType):\n",
    "            yield val.__name__\n",
    "\n",
    "import pkg_resources\n",
    "root_packages = [i.split('.', 1)[0] for i in list(imports())] \n",
    "for m in pkg_resources.working_set:\n",
    "    if m.project_name.lower() in root_packages:\n",
    "        print (m.project_name, m.version)"
   ]
  },
  {
   "cell_type": "code",
   "execution_count": null,
   "metadata": {},
   "outputs": [],
   "source": [
    "def thsp(number):\n",
    "    print format(number,\",\")"
   ]
  },
  {
   "cell_type": "markdown",
   "metadata": {},
   "source": [
    "## Load data after labeling pings on highways"
   ]
  },
  {
   "cell_type": "code",
   "execution_count": null,
   "metadata": {},
   "outputs": [],
   "source": [
    "fp = '../../../share/output/Houston/houston_aug_sep_2017_highway.csv'\n",
    "df = pd.read_csv(fp)"
   ]
  },
  {
   "cell_type": "code",
   "execution_count": null,
   "metadata": {},
   "outputs": [],
   "source": [
    "thsp(len(df))\n",
    "thsp(len(df[df['highway']==False]))"
   ]
  },
  {
   "cell_type": "code",
   "execution_count": null,
   "metadata": {},
   "outputs": [],
   "source": [
    "print thsp(df['ad_id'].nunique())\n",
    "print thsp(df['activity'].sum())"
   ]
  },
  {
   "cell_type": "markdown",
   "metadata": {},
   "source": [
    "### Drop pings on highways"
   ]
  },
  {
   "cell_type": "code",
   "execution_count": null,
   "metadata": {},
   "outputs": [],
   "source": [
    "# Dropping pings on highway\n",
    "df = df[df['highway']==False]"
   ]
  },
  {
   "cell_type": "code",
   "execution_count": null,
   "metadata": {},
   "outputs": [],
   "source": [
    "df = df.reset_index(drop=True)\n",
    "df.head()"
   ]
  },
  {
   "cell_type": "code",
   "execution_count": null,
   "metadata": {},
   "outputs": [],
   "source": [
    "thsp(df['ad_id'].nunique())"
   ]
  },
  {
   "cell_type": "markdown",
   "metadata": {},
   "source": [
    "# Data Preparation\n",
    "### Convert timestamp to Centeral Time\n",
    "* Push 5 hours to left side (-5 hours)"
   ]
  },
  {
   "cell_type": "code",
   "execution_count": null,
   "metadata": {},
   "outputs": [],
   "source": [
    "df['date'] = df['timestamp'].str[0:10] # date part\n",
    "df['hour'] = df['timestamp'].str[11:13] # hour part\n",
    "df['minute'] = df['timestamp'].str[14:16] # minute part\n",
    "\n",
    "df['dt'] = df['date'] + ' ' + df['hour'] + ':' + df['minute'] + ':00'\n",
    "df['dt'] = pd.to_datetime(df['dt'], errors='coerce')\n",
    "df['dt_ct'] = df['dt'] - pd.Timedelta(hours=5)\n",
    "\n",
    "df.head()"
   ]
  },
  {
   "cell_type": "markdown",
   "metadata": {},
   "source": [
    "### Round lat and lon to 2 decimal places"
   ]
  },
  {
   "cell_type": "code",
   "execution_count": null,
   "metadata": {},
   "outputs": [],
   "source": [
    "df['lon_round'] = df['lon'].round(2)\n",
    "df['lat_round'] = df['lat'].round(2)\n",
    "df.head(2)"
   ]
  },
  {
   "cell_type": "markdown",
   "metadata": {},
   "source": [
    "### Create 'cell_id'\n",
    "* The grid cell id = 'lon_round' + 'lat_round' as string format"
   ]
  },
  {
   "cell_type": "code",
   "execution_count": null,
   "metadata": {},
   "outputs": [],
   "source": [
    "df['cell_id'] = df['lon_round'].astype(str) + ',' + df['lat_round'].astype(str)\n",
    "df[['ad_id', 'dt_ct', 'dt', 'date', 'hour', 'minute', 'lon_round', 'lat_round', 'cell_id']].head()"
   ]
  },
  {
   "cell_type": "markdown",
   "metadata": {},
   "source": [
    "# Analysis\n",
    "### Entire data: Identifying daily nighttime locations (home locations)"
   ]
  },
  {
   "cell_type": "code",
   "execution_count": null,
   "metadata": {},
   "outputs": [],
   "source": [
    "df[['ad_id', 'dt_ct', 'lon_round', 'lat_round', 'cell_id']].head()"
   ]
  },
  {
   "cell_type": "code",
   "execution_count": null,
   "metadata": {},
   "outputs": [],
   "source": [
    "nighttime = ['00', '01', '02', '03', '04', '05', '06', '20', '21', '22', '23']\n",
    "\n",
    "date_list_pre = ['2017-08-01', '2017-08-02', '2017-08-03', '2017-08-04', '2017-08-05', '2017-08-06',\n",
    "                '2017-08-07', '2017-08-08', '2017-08-09', '2017-08-10', '2017-08-11', '2017-08-12',\n",
    "                '2017-08-13', '2017-08-14', '2017-08-15', '2017-08-16']\n",
    "\n",
    "date_list_post = ['2017-08-17', '2017-08-18', '2017-08-19', '2017-08-20', '2017-08-21', \n",
    "                 '2017-08-22', '2017-08-23', '2017-08-24', '2017-08-25', '2017-08-26', '2017-08-27',\n",
    "                 '2017-08-28', '2017-08-29', '2017-08-30', '2017-08-31', '2017-09-01', '2017-09-02',\n",
    "                 '2017-09-03', '2017-09-04', '2017-09-05', '2017-09-06', '2017-09-07', '2017-09-08', \n",
    "                 '2017-09-09', '2017-09-10', '2017-09-11', '2017-09-12', '2017-09-13', '2017-09-14',\n",
    "                 '2017-09-15', '2017-09-16', '2017-09-17', '2017-09-18', '2017-09-19', '2017-09-20',\n",
    "                 '2017-09-21', '2017-09-22', '2017-09-23', '2017-09-24', '2017-09-25', '2017-09-26',\n",
    "                 '2017-09-27', '2017-09-28', '2017-09-29', '2017-09-30']\n",
    "\n",
    "# Extract data points during nighttime\n",
    "df_night = df[df['dt_ct'].astype(str).str[11:13].isin(nighttime)]\n",
    "\n",
    "# Number of data points during nighttime and daytime\n",
    "thsp(len(df_night))\n",
    "thsp(len(df)-len(df_night))\n",
    "\n",
    "# Number of total pings during nighttime and daytime\n",
    "thsp(df_night['activity'].sum())\n",
    "thsp(df['activity'].sum() - df_night['activity'].sum())\n",
    "\n",
    "# For nighttime pings after midnight (0am), date need to be shifted\n",
    "# because for example, the nighttime for 2017-08-01 is from 19:00pm 2017-08-01 to 7:59am 2017-08-02\n",
    "\n",
    "df_night['date_revised'] = df_night['dt_ct'].dt.date\n",
    "df_night['date_revised'][df_night['dt_ct'].astype(str).str[11:13].isin(['00', '01', '02', '03', '04', '05', '06'])] = df_night['date_revised'] - pd.Timedelta(days=1)\n",
    "df_night = df_night[df_night['date_revised']!='2017-07-31']\n",
    "\n",
    "df_night['date_revised_str'] = df_night['date_revised'].astype(str)\n",
    "\n",
    "df_pre = df_night[df_night['date_revised_str'].isin(date_list_pre)].reset_index(drop=True)\n",
    "df_post = df_night[df_night['date_revised_str'].isin(date_list_post)].reset_index(drop=True)"
   ]
  },
  {
   "cell_type": "code",
   "execution_count": null,
   "metadata": {},
   "outputs": [],
   "source": [
    "df_pre = df_pre[['ad_id', 'dt_ct', 'date_revised', 'date_revised_str', 'lon_round', 'lat_round', 'cell_id', 'activity']]\n",
    "df_post = df_post[['ad_id', 'dt_ct', 'date_revised', 'date_revised_str', 'lon_round', 'lat_round', 'cell_id', 'activity']]"
   ]
  },
  {
   "cell_type": "code",
   "execution_count": null,
   "metadata": {},
   "outputs": [],
   "source": [
    "df_pre.head(2)"
   ]
  },
  {
   "cell_type": "code",
   "execution_count": null,
   "metadata": {},
   "outputs": [],
   "source": [
    "df_post.head(2)"
   ]
  },
  {
   "cell_type": "markdown",
   "metadata": {},
   "source": [
    "# Compute mode of \n",
    "* pre-hurricane\n",
    "* daily locations for post-hurricane\n",
    "### 1) Mode of pre-hurricane"
   ]
  },
  {
   "cell_type": "code",
   "execution_count": null,
   "metadata": {},
   "outputs": [],
   "source": [
    "df_pre['count'] = 1"
   ]
  },
  {
   "cell_type": "markdown",
   "metadata": {},
   "source": [
    "### One single mode of pre-hurricane"
   ]
  },
  {
   "cell_type": "code",
   "execution_count": null,
   "metadata": {},
   "outputs": [],
   "source": [
    "df_pre_group = df_pre[['ad_id', 'cell_id', 'count', 'activity']].groupby(['ad_id', 'cell_id']).sum().reset_index()\n",
    "df_pre_group.head(2)"
   ]
  },
  {
   "cell_type": "code",
   "execution_count": null,
   "metadata": {},
   "outputs": [],
   "source": [
    "thsp(len(df_pre_group['ad_id'].unique()))\n",
    "thsp(len(df_pre_group[df_pre_group['count']==1]['ad_id'].unique()))"
   ]
  },
  {
   "cell_type": "code",
   "execution_count": null,
   "metadata": {},
   "outputs": [],
   "source": [
    "user_list_pre = df_pre_group['ad_id'].unique().tolist()\n",
    "thsp(len(user_list_pre))"
   ]
  },
  {
   "cell_type": "code",
   "execution_count": null,
   "metadata": {},
   "outputs": [],
   "source": [
    "df_pre_group2 = df_pre_group.sort_values(by='count', ascending=False).drop_duplicates(['ad_id'])\n",
    "thsp(len(df_pre_group2))\n",
    "\n",
    "thsp(len(df_pre_group2[df_pre_group2['count']==1]))\n",
    "thsp(len(df_pre_group2[df_pre_group2['count']>1]))\n",
    "thsp(len(df_pre_group2[(df_pre_group2['count']==1)&(df_pre_group2['activity']==1)]))"
   ]
  },
  {
   "cell_type": "code",
   "execution_count": null,
   "metadata": {},
   "outputs": [],
   "source": [
    "df_pre_group2.head(2)"
   ]
  },
  {
   "cell_type": "code",
   "execution_count": null,
   "metadata": {},
   "outputs": [],
   "source": [
    "# Replace 'cell_id' to NaN if 'count == 1' (only one ping is not enough to determine home locations)\n",
    "df_pre_group2['cell_id'][(df_pre_group2['count']==1)&(df_pre_group2['activity']==1)] = np.nan\n",
    "df_pre_group2 = df_pre_group2.reset_index(drop=True)\n",
    "thsp(df_pre_group2['cell_id'].isnull().sum())"
   ]
  },
  {
   "cell_type": "code",
   "execution_count": null,
   "metadata": {},
   "outputs": [],
   "source": [
    "# df_pre_group2.to_csv('../../outputs/nighttime_mode_cell_pre_baseline.csv', index=False)"
   ]
  },
  {
   "cell_type": "markdown",
   "metadata": {},
   "source": [
    "### Daily mode 'cell_id's of  pre-hurricane"
   ]
  },
  {
   "cell_type": "code",
   "execution_count": null,
   "metadata": {},
   "outputs": [],
   "source": [
    "df_pre_group_d = df_pre[['ad_id', 'cell_id', 'count', 'date_revised', 'activity']].groupby(['ad_id', 'cell_id', 'date_revised']).sum().reset_index()\n",
    "df_pre_group_d.head()"
   ]
  },
  {
   "cell_type": "code",
   "execution_count": null,
   "metadata": {},
   "outputs": [],
   "source": [
    "print (df_pre_group_d['date_revised'].max())"
   ]
  },
  {
   "cell_type": "markdown",
   "metadata": {},
   "source": [
    "### Sorting --> then dropping dupliates might lose actual home 'cell_id'\n",
    "* For example, at 08/23, user AAA has 1 ping at X cell and 1 ping at Y cell\n",
    "* Actual home cell of the user AAA is Y, based on the baseline result\n",
    "* Then, if dataframe sorting and dropping dupliates method drop Y, it would be problematic\n",
    "* Therefore, if there are the same counts at different cells, the baseline location (if it's in the candidates) should be prioritized"
   ]
  },
  {
   "cell_type": "markdown",
   "metadata": {},
   "source": [
    "### Method\n",
    "* Join the baseline as a new column\n",
    "* If 'cell_id' == 'baseline', plus 1 for \"count\" column (Weighting a cell which is the same to the baseline)\n",
    "* Then sort and drop_dupliates"
   ]
  },
  {
   "cell_type": "code",
   "execution_count": null,
   "metadata": {},
   "outputs": [],
   "source": [
    "# Load baseline df\n",
    "baseline = pd.read_csv('../../outputs/nighttime_mode_cell_pre_baseline.csv')\n",
    "baseline.head(2)"
   ]
  },
  {
   "cell_type": "code",
   "execution_count": null,
   "metadata": {},
   "outputs": [],
   "source": [
    "baseline.columns = ['ad_id', 'baseline', 'count_baseline', 'activity_baseline']\n",
    "\n",
    "# Join df_pre_group with baseline\n",
    "thsp(len(df_pre_group_d))\n",
    "df_pre_group_base = pd.merge(df_pre_group_d, baseline, on='ad_id', how='left')\n",
    "thsp(len(df_pre_group_base))"
   ]
  },
  {
   "cell_type": "code",
   "execution_count": null,
   "metadata": {},
   "outputs": [],
   "source": [
    "df_pre_group_base['count'][df_pre_group_base['cell_id']==df_pre_group_base['baseline']] = df_pre_group_base['count']+1\n",
    "thsp(len(df_pre_group_base))\n",
    "thsp(len(df_pre_group_base[df_pre_group_base['count']==1]))\n",
    "\n",
    "df_pre_group_base['cell_id'][df_pre_group_base['count']==1] = np.nan\n",
    "df_pre_group_base = df_pre_group_base.reset_index(drop=True)\n",
    "thsp(df_pre_group_base['cell_id'].isnull().sum())"
   ]
  },
  {
   "cell_type": "code",
   "execution_count": null,
   "metadata": {},
   "outputs": [],
   "source": [
    "df_pre_group_base.tail()"
   ]
  },
  {
   "cell_type": "code",
   "execution_count": null,
   "metadata": {},
   "outputs": [],
   "source": [
    "# Then sort (descending by 'count') and drop_dupliates by ['ad_id', 'date']\n",
    "df_pre_group_d_2 = df_pre_group_base.sort_values(by='count', ascending=False).drop_duplicates(['ad_id', 'date_revised']).reset_index(drop=True)\n",
    "thsp(len(df_pre_group_d_2))\n",
    "df_pre_group_d_2.head()"
   ]
  },
  {
   "cell_type": "code",
   "execution_count": null,
   "metadata": {},
   "outputs": [],
   "source": [
    "thsp(df_pre_group_d_2['ad_id'].nunique())"
   ]
  },
  {
   "cell_type": "code",
   "execution_count": null,
   "metadata": {},
   "outputs": [],
   "source": [
    "# df_pre_group_d_2.to_csv('../../outputs/nighttime_mode_cell_pre_daily.csv', index=False)"
   ]
  },
  {
   "cell_type": "markdown",
   "metadata": {},
   "source": [
    "### Daily mode cells of post-hurricane"
   ]
  },
  {
   "cell_type": "code",
   "execution_count": null,
   "metadata": {},
   "outputs": [],
   "source": [
    "df_post.head()"
   ]
  },
  {
   "cell_type": "code",
   "execution_count": null,
   "metadata": {},
   "outputs": [],
   "source": [
    "df_post['count'] = 1\n",
    "\n",
    "df_post_group = df_post[['ad_id', 'cell_id', 'date_revised', 'count', 'activity']].groupby(['ad_id', 'cell_id', 'date_revised']).sum().reset_index()\n",
    "df_post_group.head(2)"
   ]
  },
  {
   "cell_type": "code",
   "execution_count": null,
   "metadata": {},
   "outputs": [],
   "source": [
    "user_list_post = df_post_group['ad_id'].unique().tolist()\n",
    "thsp(len(user_list_post))"
   ]
  },
  {
   "cell_type": "code",
   "execution_count": null,
   "metadata": {},
   "outputs": [],
   "source": [
    "# Join df_post_group with baseline\n",
    "thsp(len(df_post_group))\n",
    "df_post_group_base = pd.merge(df_post_group, baseline, on='ad_id', how='left')\n",
    "thsp(len(df_post_group_base))\n",
    "df_post_group_base.head(2)"
   ]
  },
  {
   "cell_type": "code",
   "execution_count": null,
   "metadata": {},
   "outputs": [],
   "source": [
    "df_post_group_base['count'][df_post_group_base['cell_id']==df_post_group_base['baseline']] = df_post_group_base['count']+1\n",
    "\n",
    "thsp(len(df_post_group_base))\n",
    "thsp(len(df_post_group_base[df_post_group_base['count']==1]))\n",
    "\n",
    "df_post_group_base['cell_id'][df_post_group_base['count']==1] = np.nan\n",
    "df_post_group_base = df_post_group_base.reset_index(drop=True)\n",
    "thsp(df_post_group_base['cell_id'].isnull().sum())\n",
    "\n",
    "df_post_group_base.head()"
   ]
  },
  {
   "cell_type": "code",
   "execution_count": null,
   "metadata": {},
   "outputs": [],
   "source": [
    "# Then sort (decending by 'count') and drop_dupliates by ['ad_id', 'date_revised']\n",
    "df_post_group_2 = df_post_group_base.sort_values('count', ascending=False).drop_duplicates(['ad_id', 'date_revised']).reset_index(drop=True)\n",
    "thsp(len(df_post_group_2))\n",
    "df_post_group_2.head(2)"
   ]
  },
  {
   "cell_type": "code",
   "execution_count": null,
   "metadata": {},
   "outputs": [],
   "source": [
    "thsp(len(df_post_group_2['ad_id'].unique()))"
   ]
  },
  {
   "cell_type": "code",
   "execution_count": null,
   "metadata": {},
   "outputs": [],
   "source": [
    "# df_post_group_2.to_csv('../../outputs/nighttime_mode_cell_post_daily.csv', index=False)"
   ]
  },
  {
   "cell_type": "code",
   "execution_count": null,
   "metadata": {},
   "outputs": [],
   "source": []
  }
 ],
 "metadata": {
  "kernelspec": {
   "display_name": "Python 2",
   "language": "python",
   "name": "python2"
  },
  "language_info": {
   "codemirror_mode": {
    "name": "ipython",
    "version": 2
   },
   "file_extension": ".py",
   "mimetype": "text/x-python",
   "name": "python",
   "nbconvert_exporter": "python",
   "pygments_lexer": "ipython2",
   "version": "2.7.15"
  }
 },
 "nbformat": 4,
 "nbformat_minor": 2
}

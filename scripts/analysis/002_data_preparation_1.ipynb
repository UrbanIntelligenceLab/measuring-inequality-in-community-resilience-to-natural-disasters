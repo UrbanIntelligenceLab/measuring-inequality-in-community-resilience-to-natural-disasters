{
 "cells": [
  {
   "cell_type": "markdown",
   "metadata": {},
   "source": [
    "# 002 Data Preparation 1\n",
    "* This notebook includes scripts to identify pings on highways or major roads.\n",
    "* Gepspatial processing is included."
   ]
  },
  {
   "cell_type": "code",
   "execution_count": 1,
   "metadata": {},
   "outputs": [
    {
     "data": {
      "text/plain": [
       "32512"
      ]
     },
     "execution_count": 1,
     "metadata": {},
     "output_type": "execute_result"
    }
   ],
   "source": [
    "import pandas as pd\n",
    "import numpy as np\n",
    "from numpy import arange\n",
    "import datetime\n",
    "import matplotlib.pyplot as plt\n",
    "import csv\n",
    "import time\n",
    "import geopandas as gpd\n",
    "import shapefile\n",
    "from rtree import index\n",
    "from shapely.geometry import Polygon, Point\n",
    "from pyproj import Proj, transform\n",
    "import multiprocessing as mp\n",
    "import tqdm\n",
    "import os \n",
    "import json\n",
    "%matplotlib inline\n",
    "\n",
    "import warnings\n",
    "warnings.filterwarnings(\"ignore\")\n",
    "\n",
    "os.system(\"tasket -p 0xff%d\" % os.getpid())"
   ]
  },
  {
   "cell_type": "code",
   "execution_count": 2,
   "metadata": {},
   "outputs": [
    {
     "name": "stdout",
     "output_type": "stream",
     "text": [
      "('tqdm', '4.28.1')\n",
      "('Rtree', '0.8.3')\n",
      "('pandas', '0.24.0')\n",
      "('numpy', '1.15.4')\n",
      "('matplotlib', '2.2.3')\n",
      "('geopandas', '0.4.0')\n"
     ]
    }
   ],
   "source": [
    "# Check package versions\n",
    "import types \n",
    "def imports():\n",
    "    for name, val in globals().items():\n",
    "        if isinstance(val, types.ModuleType):\n",
    "            yield val.__name__\n",
    "\n",
    "import pkg_resources\n",
    "root_packages = [i.split('.', 1)[0] for i in list(imports())] \n",
    "for m in pkg_resources.working_set:\n",
    "    if m.project_name.lower() in root_packages:\n",
    "        print (m.project_name, m.version)"
   ]
  },
  {
   "cell_type": "code",
   "execution_count": null,
   "metadata": {},
   "outputs": [],
   "source": [
    "def convert_bytes(num):\n",
    "    \"\"\"this function will convert bytes to MB, GB, etc\"\"\"\n",
    "    for x in ['bytes', 'KB', 'MB', 'GB', 'TB']:\n",
    "        if num < 1024.0:\n",
    "            return \"%3.1f %s\" % (num, x)\n",
    "        num /= 1024.0\n",
    "        \n",
    "def file_size(file_path):\n",
    "    \"\"\"this function will return the file size\"\"\"\n",
    "    if os.path.isfile(file_path):\n",
    "        file_info = os.stat(file_path)\n",
    "        return convert_bytes(file_info.st_size)"
   ]
  },
  {
   "cell_type": "markdown",
   "metadata": {},
   "source": [
    "# Excluding pings on highways\n",
    "## 1. Load highway buffer shape"
   ]
  },
  {
   "cell_type": "code",
   "execution_count": null,
   "metadata": {},
   "outputs": [],
   "source": [
    "highway = gpd.GeoDataFrame.from_file('../../data/highway_buffers.shp')\n",
    "highway = highway.to_crs({'init' :'epsg:4326'})\n",
    "print (highway.crs)"
   ]
  },
  {
   "cell_type": "markdown",
   "metadata": {},
   "source": [
    "## 2. Load all pings (x,y) and create function\n",
    "* to filter pings on highways or major roads\n",
    "* using multiprocessing\n",
    "* labeled datasets (1=highway) are saved in the directory"
   ]
  },
  {
   "cell_type": "code",
   "execution_count": null,
   "metadata": {},
   "outputs": [],
   "source": [
    "fp = '../../data/houston_aug_sep_2017.csv'\n",
    "df = pd.read_csv(fp)"
   ]
  },
  {
   "cell_type": "code",
   "execution_count": null,
   "metadata": {},
   "outputs": [],
   "source": [
    "start = time.clock()\n",
    "print (start)\n",
    "\n",
    "# print range(10001,353220002,10000)\n",
    "# num_rows = 353216526\n",
    "\n",
    "def processInput(input_):\n",
    "        x,y = input_\n",
    "        return Point(x,y).within(highway.geometry[0])\n",
    "\n",
    "\n",
    "for subset in range(10001,353220000,10000):\n",
    "    #print subset\n",
    "    tic = time.clock()\n",
    "\n",
    "    inputs = list(zip(df.iloc[subset-10001:subset-10001,2],df.iloc[subset-10001:subset-10001,3]))\n",
    "\n",
    "    pool = mp.Pool(processes = (mp.cpu_count() - 1))\n",
    "\n",
    "    results = pool.map(processInput, inputs)\n",
    "    pool.close()\n",
    "    pool.join()\n",
    "\n",
    "    toc = time.clock()\n",
    "    tictoc1 = toc-tic\n",
    "      \n",
    "    # write a text file (save as txt file)\n",
    "    tic = time.clock()\n",
    "    with open('../../data/result_excluding_pings_highway/pings_highway_%s.txt' %(subset-1), 'w') as filehandle:\n",
    "        json.dump(results, filehandle)\n",
    "    toc = time.clock()\n",
    "    tictoc2 = toc-tic\n",
    "    \n",
    "    print subset-10000, \"to\", subset-1, \"rows ---\",tictoc1, \"seconds (time to run) \", tictoc2, \"seconds (time to save)\", file_size('result_excluding_pings_highway/pings_highway_%s.txt' %(subset-1))\n",
    "\n",
    "\n",
    "done = time.clock()    \n",
    "print (done)\n",
    "print (\"Total time is \", (done-start))"
   ]
  },
  {
   "cell_type": "code",
   "execution_count": null,
   "metadata": {},
   "outputs": [],
   "source": []
  }
 ],
 "metadata": {
  "kernelspec": {
   "display_name": "Python 2",
   "language": "python",
   "name": "python2"
  },
  "language_info": {
   "codemirror_mode": {
    "name": "ipython",
    "version": 2
   },
   "file_extension": ".py",
   "mimetype": "text/x-python",
   "name": "python",
   "nbconvert_exporter": "python",
   "pygments_lexer": "ipython2",
   "version": "2.7.15"
  }
 },
 "nbformat": 4,
 "nbformat_minor": 2
}
